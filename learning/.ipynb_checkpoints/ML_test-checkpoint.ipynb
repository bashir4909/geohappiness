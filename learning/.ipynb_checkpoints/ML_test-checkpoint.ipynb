{
 "cells": [
  {
   "cell_type": "markdown",
   "metadata": {},
   "source": [
    "###### This is testing notebook for ML modules created actual implementation is inside the server"
   ]
  },
  {
   "cell_type": "code",
   "execution_count": 129,
   "metadata": {},
   "outputs": [],
   "source": [
    "import sys, csv\n",
    "sys.path.append('modules')"
   ]
  },
  {
   "cell_type": "code",
   "execution_count": 166,
   "metadata": {},
   "outputs": [],
   "source": [
    "# make sentence and label list from csv\n",
    "sent_list = []\n",
    "lbl_list = []\n",
    "# values of boundaries has been determined by manual analysis\n",
    "boundaries =[\n",
    "    0.23,\n",
    "#     0.1958,\n",
    "#     0.1680,\n",
    "    0.1475\n",
    "]\n",
    "def get_lbl(score):\n",
    "    if x>boundaries[0]:\n",
    "        return 2\n",
    "#     elif x<boundaries[3]:\n",
    "#         return 0\n",
    "    elif x<boundaries[1]:\n",
    "        return 0\n",
    "#     elif x<boundaries[2]:\n",
    "#         return 3\n",
    "    else:\n",
    "        return 1\n",
    "    \n",
    "\n",
    "with open('tweets.csv') as fp:\n",
    "    csv_r = csv.reader(fp)\n",
    "    for line in csv_r:\n",
    "        # some lines have sentence instead of score value\n",
    "        # ignore them\n",
    "        try:\n",
    "            x = float(line[2])\n",
    "            lbl = get_lbl(-log(x))\n",
    "            lbl_list.append(lbl)\n",
    "        except:\n",
    "            continue\n",
    "        sent_list.append(line[1])"
   ]
  },
  {
   "cell_type": "code",
   "execution_count": 167,
   "metadata": {},
   "outputs": [],
   "source": [
    "# create dictionary as object and dump it to csv\n",
    "from wordcount import *\n",
    "stats = Stats()\n",
    "stats.process_sentence_list(sent_list)\n",
    "with open('dictionary.csv', 'w') as fp:\n",
    "    csv_w = csv.writer(fp)\n",
    "    for key in stats.dictionary:\n",
    "        csv_w.writerow([key, stats.dictionary[key]])"
   ]
  },
  {
   "cell_type": "code",
   "execution_count": 168,
   "metadata": {},
   "outputs": [],
   "source": [
    "# make dictionary list\n",
    "with open('dictionary.csv') as fp:\n",
    "    csv_r = csv.reader(fp)\n",
    "    dictionary = []\n",
    "    for x in list(csv_r):\n",
    "        dictionary.append(x[0])"
   ]
  },
  {
   "cell_type": "code",
   "execution_count": 169,
   "metadata": {},
   "outputs": [],
   "source": [
    "# initialize predicterML which uses naive bayes underneath\n",
    "from predicter import Predicter\n",
    "pred = Predicter()\n",
    "pred.init_labeler(dictionary)"
   ]
  },
  {
   "cell_type": "code",
   "execution_count": 170,
   "metadata": {},
   "outputs": [
    {
     "data": {
      "text/plain": [
       "3429"
      ]
     },
     "execution_count": 170,
     "metadata": {},
     "output_type": "execute_result"
    }
   ],
   "source": [
    "n = int(len(lbl_list)*0.8)\n",
    "train_sent_l = sent_list[:n]\n",
    "train_lbl_l = lbl_list[:n]\n",
    "test_sent_l = sent_list[n:]\n",
    "test_lbl_l = lbl_list[n:]\n",
    "n"
   ]
  },
  {
   "cell_type": "code",
   "execution_count": 171,
   "metadata": {},
   "outputs": [
    {
     "data": {
      "text/plain": [
       "0.7027972027972028"
      ]
     },
     "execution_count": 171,
     "metadata": {},
     "output_type": "execute_result"
    }
   ],
   "source": [
    "pred.train(train_sent_l, train_lbl_l)\n",
    "hit_rate = pred.test(test_sent_l, test_lbl_l)\n",
    "hit_rate"
   ]
  },
  {
   "cell_type": "code",
   "execution_count": 174,
   "metadata": {},
   "outputs": [
    {
     "data": {
      "text/plain": [
       "1"
      ]
     },
     "execution_count": 174,
     "metadata": {},
     "output_type": "execute_result"
    }
   ],
   "source": [
    "pred.predict_sentence('I love sunny days and beautiful competitions')"
   ]
  },
  {
   "cell_type": "code",
   "execution_count": 176,
   "metadata": {},
   "outputs": [
    {
     "data": {
      "text/plain": [
       "1"
      ]
     },
     "execution_count": 176,
     "metadata": {},
     "output_type": "execute_result"
    }
   ],
   "source": [
    "pred.predict_sentence('Boring work pisses me off, suck it ')"
   ]
  },
  {
   "cell_type": "code",
   "execution_count": 104,
   "metadata": {},
   "outputs": [],
   "source": [
    "score_l = []\n",
    "with open('tweets.csv') as fp:\n",
    "    csv_r = csv.reader(fp)\n",
    "    for row in csv_r:\n",
    "        try:\n",
    "            x = float(row[2])\n",
    "            score_l.append(x)\n",
    "        except:\n",
    "            continue\n",
    "            "
   ]
  },
  {
   "cell_type": "code",
   "execution_count": 75,
   "metadata": {},
   "outputs": [],
   "source": [
    "n_greater = lambda x : len(list(filter(lambda a:a>x, score_l)))\n",
    "n_less = lambda x : len(list(filter(lambda a:a<x, score_l)))\n",
    "ratio = lambda x:n_greater(x)/n_less(x)"
   ]
  },
  {
   "cell_type": "code",
   "execution_count": 122,
   "metadata": {},
   "outputs": [
    {
     "name": "stdout",
     "output_type": "stream",
     "text": [
      "sep value 0.1450\t\t\tratio\t4.435994930291508\n",
      "sep value 0.1451\t\t\tratio\t4.435994930291508\n",
      "sep value 0.1452\t\t\tratio\t4.435994930291508\n",
      "sep value 0.1453\t\t\tratio\t4.33457711442786\n",
      "sep value 0.1454\t\t\tratio\t4.295061728395062\n",
      "sep value 0.1455\t\t\tratio\t4.288532675709002\n",
      "sep value 0.1456\t\t\tratio\t4.288532675709002\n",
      "sep value 0.1457\t\t\tratio\t4.282019704433497\n",
      "sep value 0.1458\t\t\tratio\t4.282019704433497\n",
      "sep value 0.1459\t\t\tratio\t4.275522755227552\n",
      "sep value 0.1460\t\t\tratio\t4.275522755227552\n",
      "sep value 0.1461\t\t\tratio\t4.275522755227552\n",
      "sep value 0.1462\t\t\tratio\t4.275522755227552\n",
      "sep value 0.1463\t\t\tratio\t4.275522755227552\n",
      "sep value 0.1464\t\t\tratio\t4.236874236874237\n",
      "sep value 0.1465\t\t\tratio\t4.224116930572473\n",
      "sep value 0.1466\t\t\tratio\t4.224116930572473\n",
      "sep value 0.1467\t\t\tratio\t4.224116930572473\n",
      "sep value 0.1468\t\t\tratio\t4.1924939467312345\n",
      "sep value 0.1469\t\t\tratio\t4.1924939467312345\n",
      "sep value 0.1470\t\t\tratio\t4.1924939467312345\n",
      "sep value 0.1471\t\t\tratio\t4.173703256936068\n",
      "sep value 0.1472\t\t\tratio\t4.155048076923077\n",
      "sep value 0.1473\t\t\tratio\t4.148859543817527\n",
      "sep value 0.1474\t\t\tratio\t4.093824228028503\n",
      "sep value 0.1475\t\t\tratio\t3.8191011235955057\n",
      "sep value 0.1476\t\t\tratio\t3.8191011235955057\n",
      "sep value 0.1477\t\t\tratio\t3.8191011235955057\n",
      "sep value 0.1478\t\t\tratio\t3.8191011235955057\n",
      "sep value 0.1479\t\t\tratio\t3.802911534154535\n",
      "sep value 0.1480\t\t\tratio\t3.802911534154535\n",
      "sep value 0.1481\t\t\tratio\t3.802911534154535\n",
      "sep value 0.1482\t\t\tratio\t3.7975391498881432\n",
      "sep value 0.1483\t\t\tratio\t3.792178770949721\n",
      "sep value 0.1484\t\t\tratio\t3.754988913525499\n",
      "sep value 0.1485\t\t\tratio\t3.7497231450719823\n",
      "sep value 0.1486\t\t\tratio\t3.7339955849889623\n",
      "sep value 0.1487\t\t\tratio\t3.7339955849889623\n",
      "sep value 0.1488\t\t\tratio\t3.7339955849889623\n",
      "sep value 0.1489\t\t\tratio\t3.723568281938326\n",
      "sep value 0.1490\t\t\tratio\t3.723568281938326\n",
      "sep value 0.1491\t\t\tratio\t3.646803900325027\n",
      "sep value 0.1492\t\t\tratio\t3.646803900325027\n",
      "sep value 0.1493\t\t\tratio\t3.646803900325027\n",
      "sep value 0.1494\t\t\tratio\t3.646803900325027\n",
      "sep value 0.1495\t\t\tratio\t3.646803900325027\n",
      "sep value 0.1496\t\t\tratio\t3.646803900325027\n",
      "sep value 0.1497\t\t\tratio\t3.6417748917748916\n",
      "sep value 0.1498\t\t\tratio\t3.6417748917748916\n",
      "sep value 0.1499\t\t\tratio\t3.6167922497308935\n",
      "sep value 0.1500\t\t\tratio\t3.6167922497308935\n"
     ]
    }
   ],
   "source": [
    "from numpy import arange\n",
    "for i in arange(0.145,0.15,0.0001):\n",
    "    print('sep value {0:.4f}\\t\\t\\tratio\\t{1}'.format(float(i),ratio(i)))"
   ]
  },
  {
   "cell_type": "code",
   "execution_count": null,
   "metadata": {},
   "outputs": [],
   "source": []
  }
 ],
 "metadata": {
  "kernelspec": {
   "display_name": "Python 3",
   "language": "python",
   "name": "python3"
  },
  "language_info": {
   "codemirror_mode": {
    "name": "ipython",
    "version": 3
   },
   "file_extension": ".py",
   "mimetype": "text/x-python",
   "name": "python",
   "nbconvert_exporter": "python",
   "pygments_lexer": "ipython3",
   "version": "3.5.2"
  }
 },
 "nbformat": 4,
 "nbformat_minor": 2
}
