{
 "cells": [
  {
   "cell_type": "code",
   "execution_count": 1,
   "metadata": {},
   "outputs": [],
   "source": [
    "import sys, csv\n",
    "sys.path.append('modules')"
   ]
  },
  {
   "cell_type": "code",
   "execution_count": 2,
   "metadata": {},
   "outputs": [],
   "source": [
    "# make dictionary list\n",
    "with open('dictionary.csv') as fp:\n",
    "    csv_r = csv.reader(fp)\n",
    "    dictionary = [x[0] for x in list(csv_r)]"
   ]
  },
  {
   "cell_type": "code",
   "execution_count": 3,
   "metadata": {},
   "outputs": [],
   "source": [
    "from predicter import Predicter\n",
    "pred = Predicter()\n",
    "pred.init_labeler(dictionary)"
   ]
  },
  {
   "cell_type": "code",
   "execution_count": 4,
   "metadata": {},
   "outputs": [],
   "source": [
    "# make sentence and label list from csv\n",
    "sent_list = []\n",
    "lbl_list = []\n",
    "def get_lbl(score):\n",
    "    if x>0.15:\n",
    "        return 2\n",
    "    elif x<0.05:\n",
    "        return 0\n",
    "    else:\n",
    "        return 1\n",
    "with open('tweet_training.csv') as fp:\n",
    "    csv_r = csv.reader(fp)\n",
    "    for line in csv_r:\n",
    "        # some lines have sentence instead of score value\n",
    "        # ignore them\n",
    "        try:\n",
    "            x = float(line[2])\n",
    "            lbl = get_lbl(x)\n",
    "            lbl_list.append(lbl)\n",
    "        except:\n",
    "            continue\n",
    "        sent_list.append(line[1])"
   ]
  },
  {
   "cell_type": "code",
   "execution_count": 5,
   "metadata": {},
   "outputs": [],
   "source": [
    "n = int(len(lbl_list)*0.8)\n",
    "train_sent_l = sent_list[:n]\n",
    "train_lbl_l = lbl_list[:n]\n",
    "test_sent_l = sent_list[n:]\n",
    "test_lbl_l = lbl_list[n:]"
   ]
  },
  {
   "cell_type": "code",
   "execution_count": 6,
   "metadata": {},
   "outputs": [
    {
     "data": {
      "text/plain": [
       "0.85"
      ]
     },
     "execution_count": 6,
     "metadata": {},
     "output_type": "execute_result"
    }
   ],
   "source": [
    "pred.train(train_sent_l, train_lbl_l)\n",
    "hit_rate = pred.test(test_sent_l, test_lbl_l)\n",
    "hit_rate"
   ]
  },
  {
   "cell_type": "code",
   "execution_count": null,
   "metadata": {},
   "outputs": [],
   "source": []
  }
 ],
 "metadata": {
  "kernelspec": {
   "display_name": "Python 3",
   "language": "python",
   "name": "python3"
  },
  "language_info": {
   "codemirror_mode": {
    "name": "ipython",
    "version": 3
   },
   "file_extension": ".py",
   "mimetype": "text/x-python",
   "name": "python",
   "nbconvert_exporter": "python",
   "pygments_lexer": "ipython3",
   "version": "3.5.2"
  }
 },
 "nbformat": 4,
 "nbformat_minor": 2
}
