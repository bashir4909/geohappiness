{
 "cells": [
  {
   "cell_type": "code",
   "execution_count": 60,
   "metadata": {},
   "outputs": [],
   "source": [
    "import sys, csv\n",
    "sys.path.append('modules')"
   ]
  },
  {
   "cell_type": "code",
   "execution_count": 61,
   "metadata": {},
   "outputs": [],
   "source": [
    "# make dictionary list\n",
    "with open('dictionary.csv') as fp:\n",
    "    csv_r = csv.reader(fp)\n",
    "    dictionary = [x[0] for x in list(csv_r)]"
   ]
  },
  {
   "cell_type": "code",
   "execution_count": 62,
   "metadata": {},
   "outputs": [],
   "source": [
    "from predicter import Predicter\n",
    "pred = Predicter()\n",
    "pred.init_labeler(dictionary)"
   ]
  },
  {
   "cell_type": "code",
   "execution_count": 63,
   "metadata": {},
   "outputs": [],
   "source": [
    "# make sentence and label list from csv\n",
    "sent_list = []\n",
    "lbl_list = []\n",
    "boundaries =[\n",
    "    0.2020,\n",
    "    0.1590,\n",
    "    0.1474,\n",
    "    0.1254\n",
    "]\n",
    "def get_lbl(score):\n",
    "    if x>boundaries[0]:\n",
    "        return 5\n",
    "    elif x<boundaries[3]:\n",
    "        return 0\n",
    "    elif x>boundaries[1]:\n",
    "        return 4\n",
    "    elif x<boundaries[2]:\n",
    "        return 3\n",
    "    else:\n",
    "        return 2\n",
    "with open('tweet_training.csv') as fp:\n",
    "    csv_r = csv.reader(fp)\n",
    "    for line in csv_r:\n",
    "        # some lines have sentence instead of score value\n",
    "        # ignore them\n",
    "        try:\n",
    "            x = float(line[2])\n",
    "            lbl = get_lbl(x)\n",
    "            lbl_list.append(lbl)\n",
    "        except:\n",
    "            continue\n",
    "        sent_list.append(line[1])"
   ]
  },
  {
   "cell_type": "code",
   "execution_count": 64,
   "metadata": {},
   "outputs": [],
   "source": [
    "n = int(len(lbl_list)*0.8)\n",
    "train_sent_l = sent_list[:n]\n",
    "train_lbl_l = lbl_list[:n]\n",
    "test_sent_l = sent_list[n:]\n",
    "test_lbl_l = lbl_list[n:]"
   ]
  },
  {
   "cell_type": "code",
   "execution_count": 65,
   "metadata": {},
   "outputs": [
    {
     "data": {
      "text/plain": [
       "0.2852941176470588"
      ]
     },
     "execution_count": 65,
     "metadata": {},
     "output_type": "execute_result"
    }
   ],
   "source": [
    "pred.train(train_sent_l, train_lbl_l)\n",
    "hit_rate = pred.test(test_sent_l, test_lbl_l)\n",
    "hit_rate"
   ]
  },
  {
   "cell_type": "code",
   "execution_count": 30,
   "metadata": {},
   "outputs": [],
   "source": [
    "score_l = []\n",
    "with open('tweet_training.csv') as fp:\n",
    "    csv_r = csv.reader(fp)\n",
    "    for row in csv_r:\n",
    "        try:\n",
    "            x = float(row[2])\n",
    "            score_l.append(x)\n",
    "        except:\n",
    "            continue\n",
    "            "
   ]
  },
  {
   "cell_type": "code",
   "execution_count": 35,
   "metadata": {},
   "outputs": [],
   "source": [
    "n_greater = lambda x : len(list(filter(lambda a:a>x, score_l)))\n",
    "n_less = lambda x : len(list(filter(lambda a:a<x, score_l)))\n",
    "ratio = lambda x:n_greater(x)/n_less(x)"
   ]
  },
  {
   "cell_type": "code",
   "execution_count": 58,
   "metadata": {},
   "outputs": [
    {
     "name": "stdout",
     "output_type": "stream",
     "text": [
      "sep value 0.1250\t\t\tratio\t5.170909090909091\n",
      "sep value 0.1251\t\t\tratio\t5.170909090909091\n",
      "sep value 0.1252\t\t\tratio\t5.170909090909091\n",
      "sep value 0.1253\t\t\tratio\t5.170909090909091\n",
      "sep value 0.1254\t\t\tratio\t5.170909090909091\n",
      "sep value 0.1255\t\t\tratio\t3.4775725593667546\n"
     ]
    }
   ],
   "source": [
    "from numpy import arange\n",
    "for i in arange(0.1250,0.1255,0.0001):\n",
    "    print('sep value {0:.4f}\\t\\t\\tratio\\t{1}'.format(float(i),ratio(i)))"
   ]
  },
  {
   "cell_type": "code",
   "execution_count": null,
   "metadata": {},
   "outputs": [],
   "source": []
  }
 ],
 "metadata": {
  "kernelspec": {
   "display_name": "Python 3",
   "language": "python",
   "name": "python3"
  },
  "language_info": {
   "codemirror_mode": {
    "name": "ipython",
    "version": 3
   },
   "file_extension": ".py",
   "mimetype": "text/x-python",
   "name": "python",
   "nbconvert_exporter": "python",
   "pygments_lexer": "ipython3",
   "version": "3.5.2"
  }
 },
 "nbformat": 4,
 "nbformat_minor": 2
}
